{
 "cells": [
  {
   "cell_type": "markdown",
   "metadata": {},
   "source": [
    "# Make Directories"
   ]
  },
  {
   "cell_type": "code",
   "execution_count": 29,
   "metadata": {
    "collapsed": true
   },
   "outputs": [],
   "source": [
    "base_dir = '/Users/pkkwilliam/Documents/Playground/Covnet'\n",
    "# Where the work perform"
   ]
  },
  {
   "cell_type": "code",
   "execution_count": 30,
   "metadata": {
    "collapsed": true
   },
   "outputs": [],
   "source": [
    "name_of_classes = ['rose','tulip','daisy','dandelion','sunflowers']\n",
    "# Name of Classes"
   ]
  },
  {
   "cell_type": "markdown",
   "metadata": {},
   "source": [
    "# Making Basic Directory for Train, Validation and Test.\n",
    "# Then Make Directory for each class"
   ]
  },
  {
   "cell_type": "code",
   "execution_count": 31,
   "metadata": {
    "collapsed": true
   },
   "outputs": [],
   "source": [
    "import os, shutil"
   ]
  },
  {
   "cell_type": "code",
   "execution_count": 32,
   "metadata": {
    "collapsed": true
   },
   "outputs": [],
   "source": [
    "fundamental_dir = ['train','validation','test']\n",
    "# These paraemeter should not be change!!!"
   ]
  },
  {
   "cell_type": "code",
   "execution_count": 33,
   "metadata": {},
   "outputs": [
    {
     "ename": "FileExistsError",
     "evalue": "[Errno 17] File exists: '/Users/pkkwilliam/Documents/Playground/Covnet/train'",
     "output_type": "error",
     "traceback": [
      "\u001b[0;31m---------------------------------------------------------------------------\u001b[0m",
      "\u001b[0;31mFileExistsError\u001b[0m                           Traceback (most recent call last)",
      "\u001b[0;32m<ipython-input-33-7ff0c11eda87>\u001b[0m in \u001b[0;36m<module>\u001b[0;34m()\u001b[0m\n\u001b[1;32m      1\u001b[0m \u001b[0;32mfor\u001b[0m \u001b[0mfolder\u001b[0m \u001b[0;32min\u001b[0m \u001b[0mfundamental_dir\u001b[0m\u001b[0;34m:\u001b[0m\u001b[0;34m\u001b[0m\u001b[0m\n\u001b[1;32m      2\u001b[0m     \u001b[0mcreate_dir\u001b[0m \u001b[0;34m=\u001b[0m \u001b[0mos\u001b[0m\u001b[0;34m.\u001b[0m\u001b[0mpath\u001b[0m\u001b[0;34m.\u001b[0m\u001b[0mjoin\u001b[0m\u001b[0;34m(\u001b[0m\u001b[0mbase_dir\u001b[0m\u001b[0;34m,\u001b[0m\u001b[0mfolder\u001b[0m\u001b[0;34m)\u001b[0m\u001b[0;34m\u001b[0m\u001b[0m\n\u001b[0;32m----> 3\u001b[0;31m     \u001b[0mos\u001b[0m\u001b[0;34m.\u001b[0m\u001b[0mmkdir\u001b[0m\u001b[0;34m(\u001b[0m\u001b[0mcreate_dir\u001b[0m\u001b[0;34m)\u001b[0m\u001b[0;34m\u001b[0m\u001b[0m\n\u001b[0m\u001b[1;32m      4\u001b[0m     \u001b[0;32mfor\u001b[0m \u001b[0mclass_name\u001b[0m \u001b[0;32min\u001b[0m \u001b[0mname_of_classes\u001b[0m\u001b[0;34m:\u001b[0m\u001b[0;34m\u001b[0m\u001b[0m\n\u001b[1;32m      5\u001b[0m         \u001b[0mclass_folder\u001b[0m \u001b[0;34m=\u001b[0m \u001b[0mos\u001b[0m\u001b[0;34m.\u001b[0m\u001b[0mpath\u001b[0m\u001b[0;34m.\u001b[0m\u001b[0mjoin\u001b[0m\u001b[0;34m(\u001b[0m\u001b[0mcreate_dir\u001b[0m\u001b[0;34m,\u001b[0m \u001b[0mclass_name\u001b[0m\u001b[0;34m)\u001b[0m\u001b[0;34m\u001b[0m\u001b[0m\n",
      "\u001b[0;31mFileExistsError\u001b[0m: [Errno 17] File exists: '/Users/pkkwilliam/Documents/Playground/Covnet/train'"
     ]
    }
   ],
   "source": [
    "for folder in fundamental_dir:\n",
    "    create_dir = os.path.join(base_dir,folder)\n",
    "    os.mkdir(create_dir)\n",
    "    for class_name in name_of_classes:\n",
    "        class_folder = os.path.join(create_dir, class_name)\n",
    "        os.mkdir(class_folder)"
   ]
  },
  {
   "cell_type": "code",
   "execution_count": 34,
   "metadata": {},
   "outputs": [],
   "source": [
    "# Defining a new convnet that includes #dropout#\n",
    "model = models.Sequential()\n",
    "model.add(layers.Conv2D(32, (3, 3), activation='relu',\n",
    "                        input_shape=(150, 150, 3)))\n",
    "model.add(layers.MaxPooling2D((2, 2)))\n",
    "model.add(layers.Conv2D(64, (3, 3), activation='relu'))\n",
    "model.add(layers.MaxPooling2D((2, 2)))\n",
    "model.add(layers.Conv2D(128, (3, 3), activation='relu'))\n",
    "model.add(layers.MaxPooling2D((2, 2)))\n",
    "model.add(layers.Conv2D(128, (3, 3), activation='relu'))\n",
    "model.add(layers.MaxPooling2D((2, 2)))\n",
    "model.add(layers.Flatten())\n",
    "model.add(layers.Dropout(0.5))\n",
    "model.add(layers.Dense(512, activation='relu'))\n",
    "model.add(layers.Dense(5, activation='softmax'))\n",
    "model.compile(loss='categorical_crossentropy',\n",
    "              optimizer=optimizers.RMSprop(lr=1e-4),\n",
    "              metrics=['acc'])"
   ]
  },
  {
   "cell_type": "code",
   "execution_count": 35,
   "metadata": {
    "collapsed": true
   },
   "outputs": [],
   "source": [
    "from keras import optimizers\n",
    "model.compile(loss='binary_crossentropy',\n",
    "              optimizer=optimizers.RMSprop(lr=1e-4),\n",
    "              metrics=['acc'])"
   ]
  },
  {
   "cell_type": "code",
   "execution_count": 37,
   "metadata": {},
   "outputs": [
    {
     "name": "stdout",
     "output_type": "stream",
     "text": [
      "Found 1836 images belonging to 5 classes.\n",
      "Found 1345 images belonging to 5 classes.\n"
     ]
    }
   ],
   "source": [
    "# Training convnet using data augmentation generators\n",
    "\n",
    "# training data augmentation\n",
    "train_datagen = ImageDataGenerator(\n",
    "    rescale=1./255,\n",
    "    rotation_range=40,\n",
    "    width_shift_range=0.2,\n",
    "    height_shift_range=0.2,\n",
    "    shear_range=0.2,\n",
    "    zoom_range=0.2,\n",
    "    horizontal_flip=True,)\n",
    "\n",
    "# Note that the validation data should not be augmented!\n",
    "test_datagen = ImageDataGenerator(rescale=1./255)\n",
    "\n",
    "train_generator = train_datagen.flow_from_directory(\n",
    "    # This is the target directory\n",
    "    os.path.join(base_dir,'train'),\n",
    "    # All images will be resized to 150x150\n",
    "    target_size=(150, 150),\n",
    "    batch_size=32,\n",
    "    # Since we use binary_crossentropy loss, we need binary labels\n",
    "    class_mode='categorical')\n",
    "\n",
    "validation_generator = test_datagen.flow_from_directory(\n",
    "    os.path.join(base_dir,'validation'),\n",
    "    target_size=(150, 150),\n",
    "    batch_size=32,\n",
    "    class_mode='categorical')\n"
   ]
  },
  {
   "cell_type": "code",
   "execution_count": 38,
   "metadata": {},
   "outputs": [
    {
     "name": "stdout",
     "output_type": "stream",
     "text": [
      "Epoch 1/20\n",
      "58/58 [==============================] - 160s 3s/step - loss: 0.4695 - acc: 0.8038 - val_loss: 0.4452 - val_acc: 0.8019\n",
      "Epoch 2/20\n",
      "58/58 [==============================] - 152s 3s/step - loss: 0.4166 - acc: 0.8086 - val_loss: 0.3913 - val_acc: 0.8155\n",
      "Epoch 3/20\n",
      "58/58 [==============================] - 154s 3s/step - loss: 0.3969 - acc: 0.8179 - val_loss: 0.3769 - val_acc: 0.8315\n",
      "Epoch 4/20\n",
      "58/58 [==============================] - 164s 3s/step - loss: 0.3850 - acc: 0.8250 - val_loss: 0.3974 - val_acc: 0.8149\n",
      "Epoch 5/20\n",
      "58/58 [==============================] - 151s 3s/step - loss: 0.3646 - acc: 0.8387 - val_loss: 0.3758 - val_acc: 0.8278\n",
      "Epoch 6/20\n",
      "58/58 [==============================] - 151s 3s/step - loss: 0.3601 - acc: 0.8372 - val_loss: 0.3605 - val_acc: 0.8440\n",
      "Epoch 7/20\n",
      "58/58 [==============================] - 150s 3s/step - loss: 0.3555 - acc: 0.8438 - val_loss: 0.3367 - val_acc: 0.8559\n",
      "Epoch 8/20\n",
      "58/58 [==============================] - 154s 3s/step - loss: 0.3398 - acc: 0.8486 - val_loss: 0.3333 - val_acc: 0.8607\n",
      "Epoch 9/20\n",
      "58/58 [==============================] - 166s 3s/step - loss: 0.3370 - acc: 0.8557 - val_loss: 0.3512 - val_acc: 0.8462\n",
      "Epoch 10/20\n",
      "58/58 [==============================] - 172s 3s/step - loss: 0.3287 - acc: 0.8549 - val_loss: 0.3213 - val_acc: 0.8608\n",
      "Epoch 11/20\n",
      "58/58 [==============================] - 182s 3s/step - loss: 0.3187 - acc: 0.8626 - val_loss: 0.3322 - val_acc: 0.8550\n",
      "Epoch 12/20\n",
      "58/58 [==============================] - 170s 3s/step - loss: 0.3181 - acc: 0.8611 - val_loss: 0.3249 - val_acc: 0.8562\n",
      "Epoch 13/20\n",
      "58/58 [==============================] - 167s 3s/step - loss: 0.3140 - acc: 0.8646 - val_loss: 0.3180 - val_acc: 0.8677\n",
      "Epoch 14/20\n",
      "58/58 [==============================] - 160s 3s/step - loss: 0.3086 - acc: 0.8665 - val_loss: 0.3037 - val_acc: 0.8665\n",
      "Epoch 15/20\n",
      "58/58 [==============================] - 158s 3s/step - loss: 0.3023 - acc: 0.8673 - val_loss: 0.3022 - val_acc: 0.8697\n",
      "Epoch 16/20\n",
      "58/58 [==============================] - 166s 3s/step - loss: 0.3036 - acc: 0.8684 - val_loss: 0.3201 - val_acc: 0.8659\n",
      "Epoch 17/20\n",
      "58/58 [==============================] - 168s 3s/step - loss: 0.2959 - acc: 0.8747 - val_loss: 0.3610 - val_acc: 0.8415\n",
      "Epoch 18/20\n",
      "58/58 [==============================] - 157s 3s/step - loss: 0.2918 - acc: 0.8724 - val_loss: 0.3193 - val_acc: 0.8559\n",
      "Epoch 19/20\n",
      "58/58 [==============================] - 150s 3s/step - loss: 0.2900 - acc: 0.8763 - val_loss: 0.3216 - val_acc: 0.8669\n",
      "Epoch 20/20\n",
      "58/58 [==============================] - 152s 3s/step - loss: 0.2842 - acc: 0.8784 - val_loss: 0.3093 - val_acc: 0.8711\n"
     ]
    }
   ],
   "source": [
    "history = model.fit_generator(\n",
    "    train_generator,\n",
    "    steps_per_epoch=None, #100\n",
    "    epochs=20, #100\n",
    "    validation_data=validation_generator,\n",
    "    validation_steps=None) #50"
   ]
  },
  {
   "cell_type": "code",
   "execution_count": 39,
   "metadata": {},
   "outputs": [],
   "source": [
    "import matplotlib.pyplot as plt"
   ]
  },
  {
   "cell_type": "code",
   "execution_count": 40,
   "metadata": {
    "collapsed": true
   },
   "outputs": [],
   "source": [
    "acc = history.history['acc']\n",
    "val_acc = history.history['val_acc']\n",
    "loss = history.history['loss']"
   ]
  },
  {
   "cell_type": "code",
   "execution_count": 47,
   "metadata": {},
   "outputs": [
    {
     "name": "stdout",
     "output_type": "stream",
     "text": [
      "Found 489 images belonging to 5 classes.\n",
      "test acc: 0.860531697549\n"
     ]
    }
   ],
   "source": [
    "test_generator = test_datagen.flow_from_directory(\n",
    "        os.path.join(base_dir,'test'),\n",
    "        target_size=(150, 150),\n",
    "        batch_size=20)\n",
    "test_loss, test_acc = model.evaluate_generator(test_generator, steps=50)\n",
    "print('test acc:', test_acc)"
   ]
  },
  {
   "cell_type": "code",
   "execution_count": 48,
   "metadata": {},
   "outputs": [
    {
     "data": {
      "text/plain": [
       "0.86053169754872783"
      ]
     },
     "execution_count": 48,
     "metadata": {},
     "output_type": "execute_result"
    }
   ],
   "source": [
    "test_acc"
   ]
  },
  {
   "cell_type": "code",
   "execution_count": null,
   "metadata": {
    "collapsed": true
   },
   "outputs": [],
   "source": []
  }
 ],
 "metadata": {
  "kernelspec": {
   "display_name": "Python 3",
   "language": "python",
   "name": "python3"
  },
  "language_info": {
   "codemirror_mode": {
    "name": "ipython",
    "version": 3
   },
   "file_extension": ".py",
   "mimetype": "text/x-python",
   "name": "python",
   "nbconvert_exporter": "python",
   "pygments_lexer": "ipython3",
   "version": "3.6.3"
  }
 },
 "nbformat": 4,
 "nbformat_minor": 2
}
